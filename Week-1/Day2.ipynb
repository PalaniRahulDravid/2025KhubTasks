{
 "cells": [
  {
   "cell_type": "markdown",
   "id": "14e316fc",
   "metadata": {},
   "source": [
    "Day-2 Topics: \n",
    "\n",
    "* Loops and functions\n"
   ]
  },
  {
   "cell_type": "markdown",
   "id": "5c735fe4",
   "metadata": {},
   "source": [
    "--> Looping Statements (for, while)\n",
    "\n",
    "* for loop - Used to repeat a block of code for every item in a sequence (like list, string, range)."
   ]
  },
  {
   "cell_type": "code",
   "execution_count": 1,
   "id": "db4e94d5",
   "metadata": {},
   "outputs": [
    {
     "name": "stdout",
     "output_type": "stream",
     "text": [
      "0\n",
      "1\n",
      "2\n"
     ]
    }
   ],
   "source": [
    "# Examples\n",
    "for i in range(3):\n",
    "    print(i)"
   ]
  },
  {
   "cell_type": "code",
   "execution_count": 2,
   "id": "3ccca832",
   "metadata": {},
   "outputs": [
    {
     "name": "stdout",
     "output_type": "stream",
     "text": [
      "r\n",
      "a\n",
      "h\n",
      "u\n",
      "l\n"
     ]
    }
   ],
   "source": [
    "for letter in \"rahul\":\n",
    "    print(letter)"
   ]
  },
  {
   "cell_type": "code",
   "execution_count": 3,
   "id": "f4a51eae",
   "metadata": {},
   "outputs": [
    {
     "name": "stdout",
     "output_type": "stream",
     "text": [
      "10\n",
      "20\n",
      "30\n"
     ]
    }
   ],
   "source": [
    "for num in [10, 20, 30]:\n",
    "    print(num)"
   ]
  },
  {
   "cell_type": "markdown",
   "id": "0e953943",
   "metadata": {},
   "source": [
    "* while Loop - Repeats code as long as the condition is True."
   ]
  },
  {
   "cell_type": "code",
   "execution_count": 4,
   "id": "d9f622d3",
   "metadata": {},
   "outputs": [
    {
     "name": "stdout",
     "output_type": "stream",
     "text": [
      "1\n",
      "2\n",
      "3\n",
      "4\n",
      "5\n"
     ]
    }
   ],
   "source": [
    "# examples\n",
    "i = 1\n",
    "while i <= 5:\n",
    "    print(i)\n",
    "    i += 1"
   ]
  },
  {
   "cell_type": "code",
   "execution_count": 5,
   "id": "f388c848",
   "metadata": {},
   "outputs": [
    {
     "name": "stdout",
     "output_type": "stream",
     "text": [
      "hello\n",
      "hello\n",
      "hello\n"
     ]
    }
   ],
   "source": [
    "n = 3\n",
    "while n > 0:\n",
    "    print(\"hello\")\n",
    "    n -= 1"
   ]
  },
  {
   "cell_type": "markdown",
   "id": "5dfabc81",
   "metadata": {},
   "source": [
    "--> Loop Control Statements\n",
    "* break - Stops the loop completely."
   ]
  },
  {
   "cell_type": "code",
   "execution_count": 6,
   "id": "542cacc2",
   "metadata": {},
   "outputs": [
    {
     "name": "stdout",
     "output_type": "stream",
     "text": [
      "0\n",
      "1\n",
      "2\n"
     ]
    }
   ],
   "source": [
    "# example\n",
    "for i in range(5):\n",
    "    if i == 3:\n",
    "        break\n",
    "    print(i)"
   ]
  },
  {
   "cell_type": "code",
   "execution_count": 7,
   "id": "a9acf386",
   "metadata": {},
   "outputs": [
    {
     "name": "stdout",
     "output_type": "stream",
     "text": [
      "Running\n"
     ]
    }
   ],
   "source": [
    "while True:\n",
    "    print(\"Running\")\n",
    "    break"
   ]
  },
  {
   "cell_type": "markdown",
   "id": "162fe6f0",
   "metadata": {},
   "source": [
    "* continue - Skips the current iteration and goes to the next."
   ]
  },
  {
   "cell_type": "code",
   "execution_count": 8,
   "id": "0114dadc",
   "metadata": {},
   "outputs": [
    {
     "name": "stdout",
     "output_type": "stream",
     "text": [
      "0\n",
      "1\n",
      "3\n",
      "4\n"
     ]
    }
   ],
   "source": [
    "for i in range(5):\n",
    "    if i == 2:\n",
    "        continue\n",
    "    print(i)"
   ]
  },
  {
   "cell_type": "code",
   "execution_count": 9,
   "id": "a2b8cdef",
   "metadata": {},
   "outputs": [
    {
     "name": "stdout",
     "output_type": "stream",
     "text": [
      "1\n",
      "2\n",
      "4\n"
     ]
    }
   ],
   "source": [
    "i = 0\n",
    "while i < 4:\n",
    "    i += 1\n",
    "    if i == 3:\n",
    "        continue\n",
    "    print(i)"
   ]
  },
  {
   "cell_type": "markdown",
   "id": "c600b753",
   "metadata": {},
   "source": [
    "* pass - Does nothing. Used as a placeholder."
   ]
  },
  {
   "cell_type": "code",
   "execution_count": 10,
   "id": "beb61ca7",
   "metadata": {},
   "outputs": [
    {
     "name": "stdout",
     "output_type": "stream",
     "text": [
      "2\n"
     ]
    }
   ],
   "source": [
    "for i in range(3):\n",
    "    pass\n",
    "print(i)\n"
   ]
  },
  {
   "cell_type": "code",
   "execution_count": 11,
   "id": "fef1c461",
   "metadata": {},
   "outputs": [
    {
     "name": "stdout",
     "output_type": "stream",
     "text": [
      "10\n"
     ]
    }
   ],
   "source": [
    "x = 10\n",
    "if x > 5:\n",
    "    pass\n",
    "print(x)"
   ]
  },
  {
   "cell_type": "markdown",
   "id": "de9c396b",
   "metadata": {},
   "source": [
    "* Loop with else - else runs only when the loop finishes normally (no break)."
   ]
  },
  {
   "cell_type": "code",
   "execution_count": 12,
   "id": "196e51f5",
   "metadata": {},
   "outputs": [
    {
     "name": "stdout",
     "output_type": "stream",
     "text": [
      "0\n",
      "1\n",
      "2\n",
      "Loop finished\n"
     ]
    }
   ],
   "source": [
    "for i in range(3):\n",
    "    print(i)\n",
    "else:\n",
    "    print(\"Loop finished\")"
   ]
  },
  {
   "cell_type": "code",
   "execution_count": 13,
   "id": "8dd60733",
   "metadata": {},
   "outputs": [
    {
     "name": "stdout",
     "output_type": "stream",
     "text": [
      "0\n",
      "1\n",
      "2\n",
      "While loop done\n"
     ]
    }
   ],
   "source": [
    "i = 0\n",
    "while i < 3:\n",
    "    print(i)\n",
    "    i += 1\n",
    "else:\n",
    "    print(\"While loop done\")"
   ]
  },
  {
   "cell_type": "markdown",
   "id": "eaf9fce4",
   "metadata": {},
   "source": [
    "* Nested Loops - A loop inside another loop. Used for patterns or matrix-like structures."
   ]
  },
  {
   "cell_type": "code",
   "execution_count": 14,
   "id": "a674e7f1",
   "metadata": {},
   "outputs": [
    {
     "name": "stdout",
     "output_type": "stream",
     "text": [
      "0 0\n",
      "0 1\n",
      "0 2\n",
      "1 0\n",
      "1 1\n",
      "1 2\n"
     ]
    }
   ],
   "source": [
    "for i in range(2):\n",
    "    for j in range(3):\n",
    "        print(i, j)"
   ]
  },
  {
   "cell_type": "code",
   "execution_count": 15,
   "id": "9f95282b",
   "metadata": {},
   "outputs": [
    {
     "name": "stdout",
     "output_type": "stream",
     "text": [
      "* \n",
      "* * \n",
      "* * * \n"
     ]
    }
   ],
   "source": [
    "for row in range(1, 4):\n",
    "    for col in range(1, row + 1):\n",
    "        print(\"*\", end=\" \")\n",
    "    print()"
   ]
  },
  {
   "cell_type": "markdown",
   "id": "2f723e07",
   "metadata": {},
   "source": [
    "*  Real-Life Examples for \"for loop\" and \"while loop\""
   ]
  },
  {
   "cell_type": "code",
   "execution_count": 16,
   "id": "3f64aaf8",
   "metadata": {},
   "outputs": [
    {
     "name": "stdout",
     "output_type": "stream",
     "text": [
      "Rahul\n",
      "Durga\n",
      "Govind\n"
     ]
    }
   ],
   "source": [
    "#for loop use case\n",
    "names = [\"Rahul\", \"Durga\", \"Govind\"]\n",
    "for name in names:\n",
    "    print(name)"
   ]
  },
  {
   "cell_type": "code",
   "execution_count": 17,
   "id": "e49467ed",
   "metadata": {},
   "outputs": [
    {
     "name": "stdout",
     "output_type": "stream",
     "text": [
      "Enter password:  nanmw\n",
      "Enter password:  asx\n",
      "Enter password:  open123\n"
     ]
    },
    {
     "name": "stdout",
     "output_type": "stream",
     "text": [
      "Access granted!\n"
     ]
    }
   ],
   "source": [
    "#while loop use case\n",
    "password = \"\"\n",
    "while password != \"open123\":\n",
    "    password = input(\"Enter password: \")\n",
    "print(\"Access granted!\")\n"
   ]
  },
  {
   "cell_type": "markdown",
   "id": "f1cbb2a9",
   "metadata": {},
   "source": [
    "* while True:?\n",
    "\n",
    "--> while True: is a loop that runs forever (infinite loop) unless you stop it using a break statement.\n",
    "\n",
    "--> It is used when you want a block of code to keep running continuously, until some condition is manually checked inside the loop."
   ]
  },
  {
   "cell_type": "code",
   "execution_count": null,
   "id": "751b4891",
   "metadata": {},
   "outputs": [],
   "source": [
    "#Example\n",
    "while True:\n",
    "    print(\"Hello\")\n",
    "    break\n",
    "# This prints \"Hello\" one time, then stops because of break."
   ]
  },
  {
   "cell_type": "code",
   "execution_count": null,
   "id": "9cdce09b",
   "metadata": {},
   "outputs": [],
   "source": [
    "#Example\n",
    "while True:\n",
    "    password = input(\"Enter password: \")\n",
    "    if password == \"rahul123\":\n",
    "        print(\"Access Granted\")\n",
    "        break\n",
    "    else:\n",
    "        print(\"Try Again\")\n",
    "# This keeps asking for the password until the correct one is entered."
   ]
  },
  {
   "cell_type": "markdown",
   "id": "9697327a",
   "metadata": {},
   "source": [
    "--> Functions – Main Topics"
   ]
  },
  {
   "cell_type": "markdown",
   "id": "7764a977",
   "metadata": {},
   "source": [
    "1. Defining and Calling Functions\n",
    "* Functions are blocks of code that run when you call them. Defined using the def keyword.\n",
    "* return is used to send a value back from the function."
   ]
  },
  {
   "cell_type": "code",
   "execution_count": 18,
   "id": "eb7714f5",
   "metadata": {},
   "outputs": [
    {
     "name": "stdout",
     "output_type": "stream",
     "text": [
      "Hello\n"
     ]
    }
   ],
   "source": [
    "#example\n",
    "def greet():\n",
    "    print(\"Hello\")\n",
    "\n",
    "greet()"
   ]
  },
  {
   "cell_type": "code",
   "execution_count": 19,
   "id": "e1c9d335",
   "metadata": {},
   "outputs": [
    {
     "name": "stdout",
     "output_type": "stream",
     "text": [
      "7\n"
     ]
    }
   ],
   "source": [
    "def add(a, b):\n",
    "    return a + b\n",
    "\n",
    "result = add(3, 4)\n",
    "print(result)"
   ]
  },
  {
   "cell_type": "markdown",
   "id": "40d7cf51",
   "metadata": {},
   "source": [
    "2. Function Arguments\n",
    "* Positional Arguments - Arguments passed in the correct order."
   ]
  },
  {
   "cell_type": "code",
   "execution_count": 20,
   "id": "f4e9abd2",
   "metadata": {},
   "outputs": [
    {
     "name": "stdout",
     "output_type": "stream",
     "text": [
      "5\n"
     ]
    }
   ],
   "source": [
    "def subtract(a, b):\n",
    "    return a - b\n",
    "\n",
    "print(subtract(10, 5))"
   ]
  },
  {
   "cell_type": "markdown",
   "id": "80bbf9fe",
   "metadata": {},
   "source": [
    "* Default Arguments - If no value is passed, default is used."
   ]
  },
  {
   "cell_type": "code",
   "execution_count": 21,
   "id": "de1a187c",
   "metadata": {},
   "outputs": [
    {
     "name": "stdout",
     "output_type": "stream",
     "text": [
      "Hello Rahul\n",
      "Hello Guest\n"
     ]
    }
   ],
   "source": [
    "def greet(name=\"Guest\"):\n",
    "    print(\"Hello\", name)\n",
    "\n",
    "greet(\"Rahul\")\n",
    "greet()"
   ]
  },
  {
   "cell_type": "markdown",
   "id": "a75d09b7",
   "metadata": {},
   "source": [
    "* Keyword Arguments - Arguments passed with a key=value format."
   ]
  },
  {
   "cell_type": "code",
   "execution_count": 22,
   "id": "cef4840b",
   "metadata": {},
   "outputs": [
    {
     "name": "stdout",
     "output_type": "stream",
     "text": [
      "Rahul 20\n"
     ]
    }
   ],
   "source": [
    "def info(name, age):\n",
    "    print(name, age)\n",
    "\n",
    "info(age=20, name=\"Rahul\")"
   ]
  },
  {
   "cell_type": "markdown",
   "id": "beec81a5",
   "metadata": {},
   "source": [
    "--> *args and **kwargs\n",
    "* *args is for any number of positional arguments.\n",
    "* **kwargs is for any number of keyword arguments."
   ]
  },
  {
   "cell_type": "code",
   "execution_count": 23,
   "id": "1c9f022c",
   "metadata": {},
   "outputs": [
    {
     "name": "stdout",
     "output_type": "stream",
     "text": [
      "10\n"
     ]
    }
   ],
   "source": [
    "def total(*nums):\n",
    "    print(sum(nums))\n",
    "\n",
    "total(1, 2, 3, 4)"
   ]
  },
  {
   "cell_type": "code",
   "execution_count": 24,
   "id": "8101dd75",
   "metadata": {},
   "outputs": [
    {
     "name": "stdout",
     "output_type": "stream",
     "text": [
      "{'name': 'Rahul', 'age': 20}\n"
     ]
    }
   ],
   "source": [
    "def display(**data):\n",
    "    print(data)\n",
    "\n",
    "display(name=\"Rahul\", age=20)"
   ]
  },
  {
   "cell_type": "markdown",
   "id": "375ddd60",
   "metadata": {},
   "source": [
    "3. Scope of Variables"
   ]
  },
  {
   "cell_type": "markdown",
   "id": "28d864d4",
   "metadata": {},
   "source": [
    "--> Local vs Global Variables\n",
    "* Local variables exist inside functions.\n",
    "* Global variables exist outside functions."
   ]
  },
  {
   "cell_type": "code",
   "execution_count": 25,
   "id": "373a89a1",
   "metadata": {},
   "outputs": [
    {
     "name": "stdout",
     "output_type": "stream",
     "text": [
      "5\n",
      "10\n"
     ]
    }
   ],
   "source": [
    "#example\n",
    "x = 10\n",
    "\n",
    "def show():\n",
    "    x = 5\n",
    "    print(x)\n",
    "\n",
    "show()\n",
    "print(x)\n"
   ]
  },
  {
   "cell_type": "markdown",
   "id": "5f045ee6",
   "metadata": {},
   "source": [
    "* global keyword - Used to change a global variable from inside a function."
   ]
  },
  {
   "cell_type": "code",
   "execution_count": 26,
   "id": "c09b92c6",
   "metadata": {},
   "outputs": [
    {
     "name": "stdout",
     "output_type": "stream",
     "text": [
      "1\n"
     ]
    }
   ],
   "source": [
    "count = 0\n",
    "\n",
    "def update():\n",
    "    global count\n",
    "    count += 1\n",
    "\n",
    "update()\n",
    "print(count)"
   ]
  },
  {
   "cell_type": "markdown",
   "id": "18d77cf2",
   "metadata": {},
   "source": [
    "4. Lambda Functions\n",
    "\n",
    "* A small anonymous function with one expression. Used for short tasks."
   ]
  },
  {
   "cell_type": "code",
   "execution_count": 27,
   "id": "401b82e3",
   "metadata": {},
   "outputs": [
    {
     "name": "stdout",
     "output_type": "stream",
     "text": [
      "25\n"
     ]
    }
   ],
   "source": [
    "#example\n",
    "square = lambda x: x * x\n",
    "print(square(5))"
   ]
  },
  {
   "cell_type": "code",
   "execution_count": 28,
   "id": "df9b3c72",
   "metadata": {},
   "outputs": [
    {
     "name": "stdout",
     "output_type": "stream",
     "text": [
      "7\n"
     ]
    }
   ],
   "source": [
    "add = lambda a, b: a + b\n",
    "print(add(3, 4))"
   ]
  },
  {
   "cell_type": "markdown",
   "id": "270d2024",
   "metadata": {},
   "source": [
    "* Usage with map() and filter()"
   ]
  },
  {
   "cell_type": "code",
   "execution_count": 29,
   "id": "f905b503",
   "metadata": {},
   "outputs": [
    {
     "name": "stdout",
     "output_type": "stream",
     "text": [
      "[1, 4, 9, 16]\n",
      "[2, 4]\n"
     ]
    }
   ],
   "source": [
    "#examples\n",
    "nums = [1, 2, 3, 4]\n",
    "squares = list(map(lambda x: x**2, nums))\n",
    "print(squares)\n",
    "\n",
    "evens = list(filter(lambda x: x % 2 == 0, nums))\n",
    "print(evens)"
   ]
  },
  {
   "cell_type": "code",
   "execution_count": 30,
   "id": "a3ae324e",
   "metadata": {},
   "outputs": [
    {
     "name": "stdout",
     "output_type": "stream",
     "text": [
      "[2, 4, 6]\n"
     ]
    }
   ],
   "source": [
    "# map() - example for noraml function\n",
    "def double(x):\n",
    "    return x * 2\n",
    "\n",
    "nums = [1, 2, 3]\n",
    "doubles = list(map(double, nums))\n",
    "print(doubles)"
   ]
  },
  {
   "cell_type": "code",
   "execution_count": 31,
   "id": "b9ad54da",
   "metadata": {},
   "outputs": [
    {
     "name": "stdout",
     "output_type": "stream",
     "text": [
      "['RAHUL', 'SITA']\n"
     ]
    }
   ],
   "source": [
    "def to_upper(name):\n",
    "    return name.upper()\n",
    "\n",
    "names = [\"rahul\", \"sita\"]\n",
    "upper_names = list(map(to_upper, names))\n",
    "print(upper_names)"
   ]
  },
  {
   "cell_type": "code",
   "execution_count": 32,
   "id": "12f541d6",
   "metadata": {},
   "outputs": [
    {
     "name": "stdout",
     "output_type": "stream",
     "text": [
      "[2, 4]\n"
     ]
    }
   ],
   "source": [
    "# filter() – example for normal function\n",
    "def is_even(x):\n",
    "    return x % 2 == 0\n",
    "\n",
    "nums = [1, 2, 3, 4]\n",
    "even_nums = list(filter(is_even, nums))\n",
    "print(even_nums)\n"
   ]
  },
  {
   "cell_type": "code",
   "execution_count": 33,
   "id": "7c8e6a48",
   "metadata": {},
   "outputs": [
    {
     "name": "stdout",
     "output_type": "stream",
     "text": [
      "['cat', 'car']\n"
     ]
    }
   ],
   "source": [
    "def starts_with_c(word):\n",
    "    return word.startswith(\"c\")\n",
    "\n",
    "words = [\"cat\", \"ball\", \"car\"]\n",
    "c_words = list(filter(starts_with_c, words))\n",
    "print(c_words)\n"
   ]
  }
 ],
 "metadata": {
  "kernelspec": {
   "display_name": "Python 3 (ipykernel)",
   "language": "python",
   "name": "python3"
  },
  "language_info": {
   "codemirror_mode": {
    "name": "ipython",
    "version": 3
   },
   "file_extension": ".py",
   "mimetype": "text/x-python",
   "name": "python",
   "nbconvert_exporter": "python",
   "pygments_lexer": "ipython3",
   "version": "3.12.4"
  }
 },
 "nbformat": 4,
 "nbformat_minor": 5
}
