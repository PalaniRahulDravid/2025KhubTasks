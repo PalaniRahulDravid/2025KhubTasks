{
 "cells": [
  {
   "cell_type": "markdown",
   "id": "14e316fc",
   "metadata": {},
   "source": [
    "Day-2 Topics: \n",
    "\n",
    "* Loops and functions\n"
   ]
  },
  {
   "cell_type": "markdown",
   "id": "5c735fe4",
   "metadata": {},
   "source": [
    "--> Looping Statements (for, while)\n",
    "\n",
    "* for loop - Used to repeat a block of code for every item in a sequence (like list, string, range)."
   ]
  },
  {
   "cell_type": "code",
   "execution_count": null,
   "id": "db4e94d5",
   "metadata": {},
   "outputs": [
    {
     "name": "stdout",
     "output_type": "stream",
     "text": [
      "0\n",
      "1\n",
      "2\n",
      "r\n",
      "a\n",
      "h\n",
      "u\n",
      "l\n",
      "10\n",
      "20\n",
      "30\n"
     ]
    }
   ],
   "source": [
    "# Examples\n",
    "for i in range(3):\n",
    "    print(i)"
   ]
  },
  {
   "cell_type": "code",
   "execution_count": null,
   "id": "3ccca832",
   "metadata": {},
   "outputs": [],
   "source": [
    "for letter in \"rahul\":\n",
    "    print(letter)"
   ]
  },
  {
   "cell_type": "code",
   "execution_count": null,
   "id": "f4a51eae",
   "metadata": {},
   "outputs": [],
   "source": [
    "for num in [10, 20, 30]:\n",
    "    print(num)"
   ]
  },
  {
   "cell_type": "markdown",
   "id": "0e953943",
   "metadata": {},
   "source": [
    "* while Loop - Repeats code as long as the condition is True."
   ]
  },
  {
   "cell_type": "code",
   "execution_count": null,
   "id": "d9f622d3",
   "metadata": {},
   "outputs": [
    {
     "name": "stdout",
     "output_type": "stream",
     "text": [
      "1\n",
      "2\n",
      "3\n",
      "4\n",
      "5\n",
      "hello\n",
      "hello\n",
      "hello\n"
     ]
    }
   ],
   "source": [
    "# examples\n",
    "i = 1\n",
    "while i <= 5:\n",
    "    print(i)\n",
    "    i += 1"
   ]
  },
  {
   "cell_type": "code",
   "execution_count": null,
   "id": "f388c848",
   "metadata": {},
   "outputs": [],
   "source": [
    "n = 3\n",
    "while n > 0:\n",
    "    print(\"hello\")\n",
    "    n -= 1"
   ]
  },
  {
   "cell_type": "markdown",
   "id": "5dfabc81",
   "metadata": {},
   "source": [
    "--> Loop Control Statements\n",
    "* break - Stops the loop completely."
   ]
  },
  {
   "cell_type": "code",
   "execution_count": null,
   "id": "542cacc2",
   "metadata": {},
   "outputs": [
    {
     "name": "stdout",
     "output_type": "stream",
     "text": [
      "0\n",
      "1\n",
      "2\n",
      "Running\n"
     ]
    }
   ],
   "source": [
    "# example\n",
    "for i in range(5):\n",
    "    if i == 3:\n",
    "        break\n",
    "    print(i)"
   ]
  },
  {
   "cell_type": "code",
   "execution_count": null,
   "id": "a9acf386",
   "metadata": {},
   "outputs": [],
   "source": [
    "while True:\n",
    "    print(\"Running\")\n",
    "    break"
   ]
  },
  {
   "cell_type": "markdown",
   "id": "162fe6f0",
   "metadata": {},
   "source": [
    "* continue - Skips the current iteration and goes to the next."
   ]
  },
  {
   "cell_type": "code",
   "execution_count": null,
   "id": "0114dadc",
   "metadata": {},
   "outputs": [
    {
     "name": "stdout",
     "output_type": "stream",
     "text": [
      "0\n",
      "1\n",
      "3\n",
      "4\n",
      "1\n",
      "2\n",
      "4\n"
     ]
    }
   ],
   "source": [
    "for i in range(5):\n",
    "    if i == 2:\n",
    "        continue\n",
    "    print(i)"
   ]
  },
  {
   "cell_type": "code",
   "execution_count": null,
   "id": "a2b8cdef",
   "metadata": {},
   "outputs": [],
   "source": [
    "i = 0\n",
    "while i < 4:\n",
    "    i += 1\n",
    "    if i == 3:\n",
    "        continue\n",
    "    print(i)"
   ]
  },
  {
   "cell_type": "markdown",
   "id": "c600b753",
   "metadata": {},
   "source": [
    "* pass - Does nothing. Used as a placeholder."
   ]
  },
  {
   "cell_type": "code",
   "execution_count": null,
   "id": "beb61ca7",
   "metadata": {},
   "outputs": [],
   "source": [
    "for i in range(3):\n",
    "    pass\n",
    "print(i)\n"
   ]
  },
  {
   "cell_type": "code",
   "execution_count": null,
   "id": "fef1c461",
   "metadata": {},
   "outputs": [],
   "source": [
    "x = 10\n",
    "if x > 5:\n",
    "    pass\n",
    "print(x)"
   ]
  },
  {
   "cell_type": "markdown",
   "id": "de9c396b",
   "metadata": {},
   "source": [
    "* Loop with else - else runs only when the loop finishes normally (no break)."
   ]
  },
  {
   "cell_type": "code",
   "execution_count": null,
   "id": "196e51f5",
   "metadata": {},
   "outputs": [],
   "source": [
    "for i in range(3):\n",
    "    print(i)\n",
    "else:\n",
    "    print(\"Loop finished\")"
   ]
  },
  {
   "cell_type": "code",
   "execution_count": null,
   "id": "8dd60733",
   "metadata": {},
   "outputs": [],
   "source": [
    "i = 0\n",
    "while i < 3:\n",
    "    print(i)\n",
    "    i += 1\n",
    "else:\n",
    "    print(\"While loop done\")"
   ]
  },
  {
   "cell_type": "markdown",
   "id": "eaf9fce4",
   "metadata": {},
   "source": [
    "* Nested Loops - A loop inside another loop. Used for patterns or matrix-like structures."
   ]
  },
  {
   "cell_type": "code",
   "execution_count": null,
   "id": "a674e7f1",
   "metadata": {},
   "outputs": [],
   "source": [
    "for i in range(2):\n",
    "    for j in range(3):\n",
    "        print(i, j)"
   ]
  },
  {
   "cell_type": "code",
   "execution_count": null,
   "id": "9f95282b",
   "metadata": {},
   "outputs": [],
   "source": [
    "for row in range(1, 4):\n",
    "    for col in range(1, row + 1):\n",
    "        print(\"*\", end=\" \")\n",
    "    print()"
   ]
  }
 ],
 "metadata": {
  "kernelspec": {
   "display_name": "Python 3 (ipykernel)",
   "language": "python",
   "name": "python3"
  },
  "language_info": {
   "codemirror_mode": {
    "name": "ipython",
    "version": 3
   },
   "file_extension": ".py",
   "mimetype": "text/x-python",
   "name": "python",
   "nbconvert_exporter": "python",
   "pygments_lexer": "ipython3",
   "version": "3.12.4"
  }
 },
 "nbformat": 4,
 "nbformat_minor": 5
}
