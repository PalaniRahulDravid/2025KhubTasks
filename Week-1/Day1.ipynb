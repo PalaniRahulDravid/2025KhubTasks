{
 "cells": [
  {
   "cell_type": "markdown",
   "id": "9e82080c",
   "metadata": {},
   "source": [
    "Day-1 Topics :\n",
    "\n",
    "-->strings and string methods, booleans, and operators\n",
    "\n",
    "-->list, tuples, sets and dictionaries\n",
    "\n",
    "-->conditional Statements\n",
    "\n",
    "-->Match Case"
   ]
  },
  {
   "cell_type": "markdown",
   "id": "94f8de6e",
   "metadata": {},
   "source": [
    "--> Strings and String Methods\n",
    "\n",
    "* A string is a sequence of characters inside quotes. Example: \"hello\".\n",
    "\n",
    "* String methods are functions used to perform actions on strings like converting to lowercase (lower()), removing spaces (strip()), replacing characters (replace()), etc."
   ]
  },
  {
   "cell_type": "code",
   "execution_count": 9,
   "id": "cdf75f25",
   "metadata": {},
   "outputs": [
    {
     "name": "stdout",
     "output_type": "stream",
     "text": [
      "I am a string\n",
      "Rahul Dravid\n",
      "RAHUL DRAVID\n",
      "rahul dravid\n",
      "I am Rahul Dravid\n",
      "['Rahul', 'Dravid', 'Palani']\n",
      "Rahul dravid\n",
      "Welcome To My World\n",
      "Rahul Dravid\n",
      "6\n",
      "2\n",
      "True\n",
      "True\n",
      "Rahul is Cool Guy\n"
     ]
    }
   ],
   "source": [
    "#String\n",
    "string = \"I am a string\"\n",
    "print(string)\n",
    "\n",
    "#String Concatenation\n",
    "first_name = \"Rahul\"\n",
    "last_name = \"Dravid\"\n",
    "full_name = first_name + \" \" + last_name\n",
    "print(full_name)\n",
    "\n",
    "#String Methods - upper()\n",
    "text = \"Rahul Dravid\"\n",
    "result=text.upper()\n",
    "print(result)\n",
    "\n",
    "#lower()\n",
    "text = \"Rahul Dravid\"\n",
    "print(text.lower())\n",
    "\n",
    "#replace()\n",
    "sentence = \"I am Rahul\"\n",
    "print(sentence.replace(\"Rahul\", \"Rahul Dravid\"))\n",
    "\n",
    "#split()\n",
    "data = \"Rahul,Dravid,Palani\"\n",
    "fruits = data.split(\",\")\n",
    "print(fruits)\n",
    "\n",
    "#capitalize()\n",
    "text = \"Rahul Dravid\"\n",
    "print(text.capitalize())\n",
    "[]\n",
    "#title()\n",
    "text = \"welcome to my world\"\n",
    "print(text.title())\n",
    "\n",
    "#strip()\n",
    "text = \"   Rahul Dravid   \"\n",
    "print(text.strip())\n",
    "\n",
    "#find()\n",
    "text = \"Rahul Swamy Siva Govind\"\n",
    "print(text.find(\"Swamy\"))\n",
    "\n",
    "#count()\n",
    "text = \"apple apple banana\"\n",
    "print(text.count(\"apple\"))\n",
    "\n",
    "#startswith() and endswith()\n",
    "text = \"hello world\"\n",
    "print(text.startswith(\"hello\"))\n",
    "print(text.endswith(\"world\"))\n",
    "\n",
    "#join()\n",
    "words = ['Rahul', 'is', 'Cool Guy']\n",
    "sentence = \" \".join(words)\n",
    "print(sentence)"
   ]
  },
  {
   "cell_type": "markdown",
   "id": "8a74c022",
   "metadata": {},
   "source": [
    "Operators :\n",
    "\n",
    "--> Symbols used to perform operations.\n",
    "\n",
    "* Arithmetic Operators: +, -, *, /, //, %, **\n",
    "\n",
    "* Comparison Operators: ==, !=, >, <, >=, <=\n",
    "\n",
    "* Logical Operators: and, or, not\n",
    "\n",
    "* Assignment Operators: =, +=, -=, etc."
   ]
  },
  {
   "cell_type": "markdown",
   "id": "eab44d48",
   "metadata": {},
   "source": [
    "Arithmetic Operators"
   ]
  },
  {
   "cell_type": "code",
   "execution_count": 10,
   "id": "f16831b9",
   "metadata": {},
   "outputs": [
    {
     "name": "stdout",
     "output_type": "stream",
     "text": [
      "6\n",
      "2\n",
      "8\n",
      "2.0\n",
      "0\n",
      "16\n",
      "2\n"
     ]
    }
   ],
   "source": [
    "a = 4\n",
    "b = 2\n",
    "\n",
    "print(a + b)\n",
    "print(a - b)\n",
    "print(a * b)\n",
    "print(a / b)\n",
    "print(a % b)\n",
    "print(a ** b)\n",
    "print(a // b)"
   ]
  },
  {
   "cell_type": "markdown",
   "id": "e22d85b0",
   "metadata": {},
   "source": [
    "Comparison or Relational Operators"
   ]
  },
  {
   "cell_type": "code",
   "execution_count": 11,
   "id": "87b882e9",
   "metadata": {},
   "outputs": [
    {
     "name": "stdout",
     "output_type": "stream",
     "text": [
      "False\n",
      "True\n",
      "False\n",
      "True\n",
      "False\n",
      "True\n"
     ]
    }
   ],
   "source": [
    "x = 5\n",
    "y = 8\n",
    "\n",
    "print(x == y)\n",
    "print(x != y)\n",
    "print(x > y)\n",
    "print(x < y)\n",
    "print(x >= y)\n",
    "print(x <= y)"
   ]
  },
  {
   "cell_type": "markdown",
   "id": "58386b4e",
   "metadata": {},
   "source": [
    "Assignment Operators"
   ]
  },
  {
   "cell_type": "code",
   "execution_count": 12,
   "id": "d495aaa6",
   "metadata": {},
   "outputs": [
    {
     "name": "stdout",
     "output_type": "stream",
     "text": [
      "7\n",
      "6\n",
      "18\n",
      "9.0\n",
      "1.0\n",
      "0.0\n",
      "0.0\n"
     ]
    }
   ],
   "source": [
    "x = 5\n",
    "\n",
    "x += 2\n",
    "print(x)\n",
    "\n",
    "x -= 1\n",
    "print(x)\n",
    "\n",
    "x *= 3\n",
    "print(x)\n",
    "\n",
    "x /= 2\n",
    "print(x)\n",
    "\n",
    "x %= 4\n",
    "print(x)\n",
    "\n",
    "x //= 2\n",
    "print(x)\n",
    "\n",
    "x **= 3\n",
    "print(x)"
   ]
  },
  {
   "cell_type": "markdown",
   "id": "f90d2130",
   "metadata": {},
   "source": [
    "Logical Operators"
   ]
  },
  {
   "cell_type": "code",
   "execution_count": 13,
   "id": "21274723",
   "metadata": {},
   "outputs": [
    {
     "name": "stdout",
     "output_type": "stream",
     "text": [
      "False\n",
      "True\n",
      "False\n"
     ]
    }
   ],
   "source": [
    "a = True\n",
    "b = False\n",
    "\n",
    "print(a and b)\n",
    "print(a or b)\n",
    "print(not a)"
   ]
  },
  {
   "cell_type": "markdown",
   "id": "b9fb728f",
   "metadata": {},
   "source": [
    "Bitwise Operators"
   ]
  },
  {
   "cell_type": "code",
   "execution_count": 14,
   "id": "e2b2268a",
   "metadata": {},
   "outputs": [
    {
     "name": "stdout",
     "output_type": "stream",
     "text": [
      "1\n",
      "7\n",
      "6\n",
      "-6\n",
      "10\n",
      "2\n"
     ]
    }
   ],
   "source": [
    "x = 5\n",
    "y = 3\n",
    "\n",
    "print(x & y)\n",
    "print(x | y)\n",
    "print(x ^ y)\n",
    "print(~x)\n",
    "print(x << 1)\n",
    "print(x >> 1)"
   ]
  },
  {
   "cell_type": "markdown",
   "id": "03c8069e",
   "metadata": {},
   "source": [
    "Identity Operators"
   ]
  },
  {
   "cell_type": "code",
   "execution_count": 15,
   "id": "03cd8798",
   "metadata": {},
   "outputs": [
    {
     "name": "stdout",
     "output_type": "stream",
     "text": [
      "True\n",
      "False\n",
      "True\n"
     ]
    }
   ],
   "source": [
    "a = [1, 2]\n",
    "b = a\n",
    "c = [1, 2]\n",
    "\n",
    "print(a is b)\n",
    "print(a is c)\n",
    "print(a is not c)"
   ]
  },
  {
   "cell_type": "markdown",
   "id": "c7647396",
   "metadata": {},
   "source": [
    "Membership Operators"
   ]
  },
  {
   "cell_type": "code",
   "execution_count": 16,
   "id": "f182cc46",
   "metadata": {},
   "outputs": [
    {
     "name": "stdout",
     "output_type": "stream",
     "text": [
      "True\n",
      "False\n"
     ]
    }
   ],
   "source": [
    "names = [\"Rahul\", \"Swamy\", \"Siva\", \"Govind\"]\n",
    "\n",
    "print(\"Rahul\" in names)\n",
    "print(\"Siva\" not in names)"
   ]
  },
  {
   "cell_type": "markdown",
   "id": "320503e8",
   "metadata": {},
   "source": [
    "Booleans:\n",
    "\n",
    "* It is a data type that has only two values: True or False."
   ]
  },
  {
   "cell_type": "code",
   "execution_count": 17,
   "id": "0530aae0",
   "metadata": {},
   "outputs": [
    {
     "name": "stdout",
     "output_type": "stream",
     "text": [
      "True\n",
      "False\n"
     ]
    }
   ],
   "source": [
    "is_active = True\n",
    "is_logged_in = False\n",
    "\n",
    "print(is_active)\n",
    "print(is_logged_in)"
   ]
  },
  {
   "cell_type": "markdown",
   "id": "54b1f979",
   "metadata": {},
   "source": [
    "Lists – Ordered, mutable, allows duplicates\n",
    "\n",
    "* A collection of items in a particular order. It is changeable and uses square brackets.\n",
    "\n",
    "* Example: [1, 2, 3]"
   ]
  },
  {
   "cell_type": "code",
   "execution_count": 18,
   "id": "4d015d7d",
   "metadata": {},
   "outputs": [
    {
     "name": "stdout",
     "output_type": "stream",
     "text": [
      "apple\n",
      "['apple', 'orange', 'cherry']\n",
      "['apple', 'orange', 'cherry', 'grape']\n",
      "['apple', 'kiwi', 'orange', 'cherry', 'grape']\n",
      "['kiwi', 'orange', 'cherry', 'grape']\n",
      "['kiwi', 'orange', 'cherry']\n",
      "['orange', 'cherry']\n"
     ]
    }
   ],
   "source": [
    "fruits = [\"apple\", \"banana\", \"cherry\"]\n",
    "\n",
    "print(fruits[0])\n",
    "\n",
    "fruits[1] = \"orange\"\n",
    "print(fruits)\n",
    "\n",
    "fruits.append(\"grape\")\n",
    "print(fruits)\n",
    "\n",
    "fruits.insert(1, \"kiwi\")\n",
    "print(fruits)\n",
    "\n",
    "fruits.remove(\"apple\")\n",
    "print(fruits)\n",
    "\n",
    "last = fruits.pop()\n",
    "print(fruits)\n",
    "\n",
    "print(fruits[1:3])"
   ]
  },
  {
   "cell_type": "markdown",
   "id": "594ceebd",
   "metadata": {},
   "source": [
    "Common List Methods"
   ]
  },
  {
   "cell_type": "code",
   "execution_count": 19,
   "id": "868c02d3",
   "metadata": {},
   "outputs": [
    {
     "name": "stdout",
     "output_type": "stream",
     "text": [
      "['apple', 'banana', 'cherry']\n",
      "['apple', 'banana', 'cherry', 'mango']\n",
      "['apple', 'kiwi', 'banana', 'cherry', 'mango']\n",
      "['apple', 'kiwi', 'cherry', 'mango']\n",
      "['apple', 'kiwi', 'cherry']\n",
      "['apple', 'cherry', 'kiwi']\n",
      "['kiwi', 'cherry', 'apple']\n",
      "[]\n"
     ]
    }
   ],
   "source": [
    "fruits = [\"apple\", \"banana\", \"cherry\"]\n",
    "print(fruits)\n",
    "\n",
    "fruits.append(\"mango\")\n",
    "print(fruits)\n",
    "\n",
    "fruits.insert(1, \"kiwi\")\n",
    "print(fruits)\n",
    "\n",
    "fruits.remove(\"banana\")\n",
    "print(fruits)\n",
    "\n",
    "fruits.pop()\n",
    "print(fruits)\n",
    "\n",
    "fruits.sort()\n",
    "print(fruits)\n",
    "\n",
    "fruits.reverse()\n",
    "print(fruits)\n",
    "\n",
    "fruits.clear()\n",
    "print(fruits)"
   ]
  },
  {
   "cell_type": "markdown",
   "id": "fedba984",
   "metadata": {},
   "source": [
    "Tuples – Ordered, immutable, allows duplicates\n",
    "\n",
    "* A collection like a list but not changeable (immutable). Uses round brackets.\n",
    "* Example: (1, 2, 3)"
   ]
  },
  {
   "cell_type": "code",
   "execution_count": 20,
   "id": "070819f0",
   "metadata": {},
   "outputs": [
    {
     "name": "stdout",
     "output_type": "stream",
     "text": [
      "red\n",
      "1\n",
      "1\n",
      "red green blue\n",
      "2\n",
      "<class 'tuple'>\n"
     ]
    }
   ],
   "source": [
    "colors = (\"red\", \"green\", \"blue\")\n",
    "\n",
    "print(colors[0])\n",
    "\n",
    "print(colors.count(\"red\"))\n",
    "\n",
    "print(colors.index(\"green\"))\n",
    "\n",
    "r, g, b = colors\n",
    "print(r, g, b)\n",
    "\n",
    "nested = ((1, 2), (3, 4))\n",
    "print(nested[0][1])\n",
    "\n",
    "name = (\"hello\",)\n",
    "print(type(name))"
   ]
  },
  {
   "cell_type": "markdown",
   "id": "57a8aff4",
   "metadata": {},
   "source": [
    "Common Tuple Methods"
   ]
  },
  {
   "cell_type": "code",
   "execution_count": 21,
   "id": "8548731b",
   "metadata": {},
   "outputs": [
    {
     "name": "stdout",
     "output_type": "stream",
     "text": [
      "1\n",
      "2\n"
     ]
    }
   ],
   "source": [
    "colors = (\"red\", \"green\", \"blue\")\n",
    "n=colors.count(\"green\")\n",
    "print(n)\n",
    "n=colors.index(\"blue\")\n",
    "print(n)"
   ]
  },
  {
   "cell_type": "markdown",
   "id": "3343d9b1",
   "metadata": {},
   "source": [
    "Sets – Unordered, mutable, no duplicates\n",
    "\n",
    "* A collection of unique and unordered items. Uses curly brackets.\n",
    "\n",
    "* Example: {1, 2, 3}"
   ]
  },
  {
   "cell_type": "code",
   "execution_count": 22,
   "id": "d9df4d67",
   "metadata": {},
   "outputs": [
    {
     "name": "stdout",
     "output_type": "stream",
     "text": [
      "{1, 2, 3, 4, 5}\n",
      "{1, 3, 4, 5}\n",
      "{1, 2, 3}\n",
      "{2}\n",
      "{1}\n"
     ]
    }
   ],
   "source": [
    "numbers = {1, 2, 3, 4}\n",
    "\n",
    "numbers.add(5)\n",
    "print(numbers)\n",
    "\n",
    "numbers.remove(2)\n",
    "print(numbers)\n",
    "\n",
    "# union\n",
    "a = {1, 2}\n",
    "b = {2, 3}\n",
    "print(a.union(b))\n",
    "\n",
    "# intersection\n",
    "print(a.intersection(b))\n",
    "\n",
    "# difference\n",
    "print(a.difference(b))"
   ]
  },
  {
   "cell_type": "markdown",
   "id": "210928d3",
   "metadata": {},
   "source": [
    "Common Set Methods"
   ]
  },
  {
   "cell_type": "code",
   "execution_count": 23,
   "id": "e63bad28",
   "metadata": {},
   "outputs": [
    {
     "name": "stdout",
     "output_type": "stream",
     "text": [
      "{1, 2, 3, 4}\n",
      "{1, 3, 4}\n",
      "{1, 3, 4}\n",
      "{3, 4}\n",
      "set()\n"
     ]
    }
   ],
   "source": [
    "s = {1, 2, 3}\n",
    "\n",
    "s.add(4)\n",
    "print(s)\n",
    "\n",
    "s.remove(2)\n",
    "print(s)\n",
    "\n",
    "s.discard(10)\n",
    "print(s)\n",
    "\n",
    "s.pop()\n",
    "print(s)\n",
    "\n",
    "s.clear()\n",
    "print(s)"
   ]
  },
  {
   "cell_type": "markdown",
   "id": "b69ae5ed",
   "metadata": {},
   "source": [
    "Dictionaries – Key-value pairs, unordered\n",
    "\n",
    "* A collection of key-value pairs.\n",
    "* Example: {\"name\": \"Rahul\", \"age\": 20}"
   ]
  },
  {
   "cell_type": "code",
   "execution_count": 24,
   "id": "bb30b19a",
   "metadata": {},
   "outputs": [
    {
     "name": "stdout",
     "output_type": "stream",
     "text": [
      "Rahul\n",
      "name Rahul\n",
      "age 22\n",
      "grade A\n",
      "True\n",
      "0\n"
     ]
    }
   ],
   "source": [
    "student = {\"name\": \"Rahul\", \"age\": 21, \"course\": \"MERN\"}\n",
    "\n",
    "# Access value by key\n",
    "print(student[\"name\"])\n",
    "\n",
    "# Add new key-value pair\n",
    "student[\"grade\"] = \"A\"\n",
    "\n",
    "# Update existing value\n",
    "student[\"age\"] = 22\n",
    "\n",
    "# Remove key\n",
    "student.pop(\"course\")\n",
    "\n",
    "#LOOP\n",
    "for key, value in student.items():\n",
    "    print(key, value)\n",
    "\n",
    "# Check if key exists\n",
    "print(\"name\" in student)\n",
    "\n",
    "# Get value with default\n",
    "print(student.get(\"marks\", 0))"
   ]
  },
  {
   "cell_type": "markdown",
   "id": "64a97b8c",
   "metadata": {},
   "source": [
    "Common Dictionary Methods"
   ]
  },
  {
   "cell_type": "code",
   "execution_count": 25,
   "id": "b1163239",
   "metadata": {},
   "outputs": [
    {
     "name": "stdout",
     "output_type": "stream",
     "text": [
      "{'name': 'Rahul', 'age': 21}\n",
      "{'name': 'Rahul', 'age': 21}\n",
      "{'name': 'Rahul', 'age': 21}\n",
      "{'name': 'Rahul', 'age': 21}\n",
      "{'name': 'Rahul', 'age': 21}\n",
      "{'age': 21}\n",
      "{}\n"
     ]
    }
   ],
   "source": [
    "student = {\"name\": \"Rahul\", \"age\": 21}\n",
    "\n",
    "student.get(\"age\")\n",
    "print(student)\n",
    "\n",
    "student.keys()\n",
    "print(student)\n",
    "\n",
    "student.values()\n",
    "print(student)\n",
    "\n",
    "student.items()\n",
    "print(student)\n",
    "\n",
    "student.update({\"age\": 21})\n",
    "print(student)\n",
    "\n",
    "student.pop(\"name\")\n",
    "print(student)\n",
    "\n",
    "student.clear()\n",
    "print(student)"
   ]
  },
  {
   "cell_type": "markdown",
   "id": "aace7b84",
   "metadata": {},
   "source": [
    "Conditional Statement:\n",
    "\n",
    "* Used to make decisions in a program using if, elif, and else.\n",
    "* They check a condition and run code only if it's true."
   ]
  },
  {
   "cell_type": "markdown",
   "id": "4e200790",
   "metadata": {},
   "source": [
    "if Statement"
   ]
  },
  {
   "cell_type": "code",
   "execution_count": 26,
   "id": "cfb4ce07",
   "metadata": {},
   "outputs": [
    {
     "name": "stdout",
     "output_type": "stream",
     "text": [
      "x is greater than 5\n"
     ]
    }
   ],
   "source": [
    "x = 10\n",
    "if x > 5:\n",
    "    print(\"x is greater than 5\")"
   ]
  },
  {
   "cell_type": "markdown",
   "id": "20aa72e0",
   "metadata": {},
   "source": [
    "if-else Statement"
   ]
  },
  {
   "cell_type": "code",
   "execution_count": 27,
   "id": "5d66ef63",
   "metadata": {},
   "outputs": [
    {
     "name": "stdout",
     "output_type": "stream",
     "text": [
      "You cannot vote\n"
     ]
    }
   ],
   "source": [
    "age = 16\n",
    "if age >= 18:\n",
    "    print(\"You can vote\")\n",
    "else:\n",
    "    print(\"You cannot vote\")"
   ]
  },
  {
   "cell_type": "markdown",
   "id": "7c77e53a",
   "metadata": {},
   "source": [
    "if-elif-else Statement"
   ]
  },
  {
   "cell_type": "code",
   "execution_count": 28,
   "id": "affbb4f7",
   "metadata": {},
   "outputs": [
    {
     "name": "stdout",
     "output_type": "stream",
     "text": [
      "Grade B\n"
     ]
    }
   ],
   "source": [
    "score = 85\n",
    "if score >= 90:\n",
    "    print(\"Grade A\")\n",
    "elif score >= 75:\n",
    "    print(\"Grade B\")\n",
    "elif score >= 60:\n",
    "    print(\"Grade C\")\n",
    "else:\n",
    "    print(\"Grade D\")"
   ]
  },
  {
   "cell_type": "markdown",
   "id": "15cdabd4",
   "metadata": {},
   "source": [
    "Nested if Statement"
   ]
  },
  {
   "cell_type": "code",
   "execution_count": 29,
   "id": "8790f865",
   "metadata": {},
   "outputs": [
    {
     "name": "stdout",
     "output_type": "stream",
     "text": [
      "Positive even number\n"
     ]
    }
   ],
   "source": [
    "num = 10\n",
    "if num > 0:\n",
    "    if num % 2 == 0:\n",
    "        print(\"Positive even number\")\n",
    "    else:\n",
    "        print(\"Positive odd number\")\n",
    "else:\n",
    "    print(\"Not a positive number\")"
   ]
  },
  {
   "cell_type": "markdown",
   "id": "b6671203",
   "metadata": {},
   "source": [
    "Match Case - multiple if-elif-else conditions\n",
    "\n",
    "* An alternative to multiple if-else conditions.\n",
    "* It checks the value of a variable and runs the matching case (like switch-case in other languages)."
   ]
  },
  {
   "cell_type": "code",
   "execution_count": 30,
   "id": "6aa392b6",
   "metadata": {},
   "outputs": [
    {
     "name": "stdout",
     "output_type": "stream",
     "text": [
      "Thursday\n"
     ]
    }
   ],
   "source": [
    "day = 4\n",
    "match day:\n",
    "    case 1:\n",
    "        print(\"Monday\")\n",
    "    case 2:\n",
    "        print(\"Tuesday\")\n",
    "    case 3:\n",
    "        print(\"Wednesday\")\n",
    "    case 4:\n",
    "        print(\"Thursday\")\n",
    "    case 5:\n",
    "        print(\"Friday\")\n",
    "    case 6:\n",
    "        print(\"Saturday\")\n",
    "    case 7:\n",
    "        print(\"Sunday\")\n",
    "    case _:\n",
    "        print(\"Invalid day\")"
   ]
  }
 ],
 "metadata": {
  "kernelspec": {
   "display_name": "Python 3 (ipykernel)",
   "language": "python",
   "name": "python3"
  },
  "language_info": {
   "codemirror_mode": {
    "name": "ipython",
    "version": 3
   },
   "file_extension": ".py",
   "mimetype": "text/x-python",
   "name": "python",
   "nbconvert_exporter": "python",
   "pygments_lexer": "ipython3",
   "version": "3.12.4"
  }
 },
 "nbformat": 4,
 "nbformat_minor": 5
}
